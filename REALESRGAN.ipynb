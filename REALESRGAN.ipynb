{
  "nbformat": 4,
  "nbformat_minor": 0,
  "metadata": {
    "colab": {
      "provenance": [],
      "gpuType": "T4"
    },
    "kernelspec": {
      "name": "python3",
      "display_name": "Python 3"
    },
    "language_info": {
      "name": "python"
    },
    "accelerator": "GPU"
  },
  "cells": [
    {
      "cell_type": "code",
      "source": [
        "!apt update && apt install -y python3.9 python3.9-distutils\n",
        "!update-alternatives --install /usr/bin/python3 python3 /usr/bin/python3.9 1\n",
        "!update-alternatives --config python3"
      ],
      "metadata": {
        "id": "zVsJ7OhLHXER"
      },
      "execution_count": null,
      "outputs": []
    },
    {
      "cell_type": "code",
      "execution_count": null,
      "metadata": {
        "id": "9Loak6bMGCn0"
      },
      "outputs": [],
      "source": [
        "!apt-get update\n",
        "!apt-get install python3.9-distutils python3.9-venv  # Ensure Python 3.9 has distutils\n",
        "!wget https://bootstrap.pypa.io/get-pip.py\n",
        "!python3.9 get-pip.py --force-reinstall"
      ]
    },
    {
      "cell_type": "code",
      "source": [
        "!python3 --version"
      ],
      "metadata": {
        "id": "j5TDYCpLHTd5"
      },
      "execution_count": null,
      "outputs": []
    },
    {
      "cell_type": "code",
      "source": [
        "!pip install torch==1.13.1+cu116 torchvision==0.14.1+cu116 --extra-index-url https://download.pytorch.org/whl/cu116\n",
        "!pip install \"numpy<2\" basicsr==1.4.2 gfpgan==1.3.8 facexlib opencv-python"
      ],
      "metadata": {
        "id": "LuCQRBE2HjF5"
      },
      "execution_count": null,
      "outputs": []
    },
    {
      "cell_type": "code",
      "source": [
        "!git clone https://github.com/xinntao/Real-ESRGAN.git\n",
        "%cd /content/Real-ESRGAN\n",
        "!pip install -e ."
      ],
      "metadata": {
        "id": "Ftba8wfeIHBb"
      },
      "execution_count": null,
      "outputs": []
    },
    {
      "cell_type": "code",
      "source": [
        "!mkdir -p weights\n",
        "!wget https://github.com/xinntao/Real-ESRGAN/releases/download/v0.1.0/RealESRGAN_x4plus.pth -P weights"
      ],
      "metadata": {
        "id": "v713KY3GIR4y"
      },
      "execution_count": null,
      "outputs": []
    },
    {
      "cell_type": "code",
      "source": [
        "from google.colab import files\n",
        "import os\n",
        "\n",
        "uploaded = files.upload()\n",
        "input_video = list(uploaded.keys())[0]"
      ],
      "metadata": {
        "id": "MvHPcfYGIXpA"
      },
      "execution_count": null,
      "outputs": []
    },
    {
      "cell_type": "code",
      "source": [
        "import cv2\n",
        "\n",
        "frames_dir = 'input_frames'\n",
        "os.makedirs(frames_dir, exist_ok=True)\n",
        "\n",
        "cap = cv2.VideoCapture(input_video)\n",
        "fps = cap.get(cv2.CAP_PROP_FPS)  # Get original FPS\n",
        "\n",
        "i = 0\n",
        "while cap.isOpened():\n",
        "    ret, frame = cap.read()\n",
        "    if not ret:\n",
        "        break\n",
        "    cv2.imwrite(f'{frames_dir}/frame_{i:04d}.png', frame)\n",
        "    i += 1\n",
        "cap.release()\n",
        "\n",
        "print(f\"Extracted {i} frames to {frames_dir}\")"
      ],
      "metadata": {
        "id": "usIQfPsIIfso"
      },
      "execution_count": null,
      "outputs": []
    },
    {
      "cell_type": "code",
      "source": [
        "output_frames = 'output_frames'\n",
        "os.makedirs(output_frames, exist_ok=True)\n",
        "\n",
        "!python inference_realesrgan.py \\\n",
        "    -n RealESRGAN_x4plus \\\n",
        "    -i {frames_dir} \\\n",
        "    -o {output_frames} \\\n",
        "    -s 4 \\\n",
        "    --face_enhance \\\n",
        "    --model_path weights/RealESRGAN_x4plus.pth\n"
      ],
      "metadata": {
        "id": "bifkxowQIjp4"
      },
      "execution_count": null,
      "outputs": []
    },
    {
      "cell_type": "code",
      "source": [
        "import cv2\n",
        "import os\n",
        "\n",
        "output_video = 'enhanced_video.mp4'\n",
        "frames = sorted([f for f in os.listdir(output_frames) if f.endswith('.png')])\n",
        "\n",
        "if not frames:\n",
        "    raise ValueError(\"No output frames found! Check processing step.\")\n",
        "\n",
        "# Get dimensions from first frame\n",
        "frame_path = os.path.join(output_frames, frames[0])\n",
        "h, w = cv2.imread(frame_path).shape[:2]\n",
        "\n",
        "fourcc = cv2.VideoWriter_fourcc(*'mp4v')\n",
        "out = cv2.VideoWriter(output_video, fourcc, fps, (w, h))\n",
        "\n",
        "for frame_name in frames:\n",
        "    frame = cv2.imread(os.path.join(output_frames, frame_name))\n",
        "    if frame is not None:\n",
        "        out.write(frame)\n",
        "\n",
        "out.release()\n",
        "print(f\"Video saved to {output_video}\")"
      ],
      "metadata": {
        "id": "ZMZsv_mYLRyN"
      },
      "execution_count": null,
      "outputs": []
    },
    {
      "cell_type": "code",
      "source": [
        "files.download(output_video)"
      ],
      "metadata": {
        "id": "klQzuWjZLlsN"
      },
      "execution_count": null,
      "outputs": []
    }
  ]
}